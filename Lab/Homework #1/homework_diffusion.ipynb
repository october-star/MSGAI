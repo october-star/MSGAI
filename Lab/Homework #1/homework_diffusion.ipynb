{
  "cells": [
    {
      "cell_type": "markdown",
      "id": "d8cb305f6c5df252",
      "metadata": {
        "collapsed": false,
        "id": "d8cb305f6c5df252"
      },
      "source": [
        "# Homework - Performance Evaluation of Diffusion models\n",
        "In this homework, you will conduct a performance comparison between two popular diffusion models: Denoising Diffusion Probabilistic Models ([DDPM](https://arxiv.org/pdf/2006.11239)) and Denoising Diffusion Implicit Models ([DDIM](https://arxiv.org/pdf/2010.02502)). Your task is to evaluate and compare the efficacy of these models in generating high-quality synthetic data, focusing on aspects such as image quality, computational efficiency, and training stability. You will implement both models, apply them to a common dataset, and analyze their performance using metrics like FID (Fréchet Inception Distance). The goal is to understand the strengths and weaknesses of DDPM and DDIM, providing insights into how their differing approaches to diffusion and denoising affect overall model performance.\n",
        "\n",
        "## Instructions\n",
        "Submit your assignment as Jupter notebook with all relevant execution outputs and plots visible. Please clearly indicate the relevant steps in your code using comments, such as data pre-processing, model definition, model training. Partial grades can be given for imcomplete results when the steps are clearly marked.\n",
        "\n",
        "1. Ensure you have the cloned the [course repository](https://github.com/lydiaYchen/25MSGAI).\n",
        "2. Open the interactive notebook version (homework_diffusion.ipynb) of homework from your local clone.\n",
        "3. Complete the homework by filling the code cell and answers. Please ensure that the changes are saved.\n",
        "4. Upload the notebook to the assignment in the system.\n",
        "\n",
        "Please submit your assignment as a Jupyter Notebook, ensuring that all relevant execution outputs and plots are visible. Your notebook should include a clear and organized structure, with comments for each major step of the assignment. For example, your notebook may contain:\n",
        "- Data Loading: Describe and implement the steps for preparing the dataset. This homework only works on image data with pre-trained models. Thus, we do not need to conduct customized data input, normalization, or augmentation.\n",
        "- Model Definition: Define the architectures for both the DDPM and DDIM models. Understand the details on the model parameters, layers, and any other relevant configurations.\n",
        "- Performance Evaluation: Present and analyze the results of your comparison. Include plots and metrics such as FID scores and sample visualizations. Make sure these results are clearly labeled and easy to interpret.\n",
        "\n",
        "Be sure to use comments throughout your code to clearly indicate the purpose of each section and the specific steps you are performing. While complete results are preferred, partial grades may be given if the steps are clearly marked and the work is well-documented.\n",
        "\n",
        "## Note\n",
        "\n",
        "Unless specified elsewhere, the tutorial follows the following hyper-paramters (The hyper-parameters for training tabular diffusion models are up to your design):\n"
      ]
    },
    {
      "cell_type": "code",
      "execution_count": null,
      "id": "dac6c8dd6968162b",
      "metadata": {
        "ExecuteTime": {
          "end_time": "2024-09-27T07:25:27.039171Z",
          "start_time": "2024-09-27T07:25:27.030874Z"
        },
        "id": "dac6c8dd6968162b"
      },
      "outputs": [],
      "source": [
        "num_train_timesteps = 1000,\n",
        "beta_start = 0.0001,\n",
        "beta_end = 0.02,\n",
        "beta_schedule = \"linear\",\n",
        "clip_sample_range = 1.0,\n",
        "sample_max_value = 1.0"
      ]
    },
    {
      "cell_type": "markdown",
      "id": "4a10e4e46e7ffffc",
      "metadata": {
        "collapsed": false,
        "id": "4a10e4e46e7ffffc"
      },
      "source": [
        "## Exercise 1 - Impact of different dataset (4 points)\n",
        "\n",
        "Using the template code from the lab_diffusion_1.ipynb and lab_diffusion_2.ipynb, try to discover the generating quality of images under different datasets for both DDPM and DDIM. Different datasets indicate different size of images, which also show the complexity for noising and denoising. Please specify by FID and image visualization.\n",
        "Research how to compute the FID score and implement it in your notebook, use pre-trained models with the correct resolution for each datasets.\n",
        " The datasets can be:\n",
        "\n",
        "- mnist (1 point) : 28 * 28 sized 1-channel gray-scaled image\n",
        "- cifar-10 (1 point) : 32 * 32 sized 3-channel colored image\n",
        "- pokemon (1 point) : 64 * 64 sized 3-channel colored image\n",
        "- butterflies (1 point) : 128 * 128 sized 3-channel colored image\n",
        "- church (1 bonus point): 256 * 256 sized 3-channel colored image (if applicable)\n",
        "\n",
        "You can find the pre-trained models [here](https://huggingface.co/models?sort=downloads). You may also choose different datasets as long as they vary in sizes. To evaluate FID, you can only choose from one dataset and with generating 10-50 images (as calculating images usually requires a lot, e.g., >10K. This tutorial is just a toy demo to run)."
      ]
    },
    {
      "cell_type": "code",
      "execution_count": null,
      "id": "517228e9794f2d84",
      "metadata": {
        "ExecuteTime": {
          "end_time": "2024-09-27T07:25:27.047222Z",
          "start_time": "2024-09-27T07:25:27.044488Z"
        },
        "id": "517228e9794f2d84"
      },
      "outputs": [],
      "source": [
        "## TODO\n",
        "\n"
      ]
    },
    {
      "cell_type": "markdown",
      "id": "9172cb6ddd2481a0",
      "metadata": {
        "collapsed": false,
        "id": "9172cb6ddd2481a0"
      },
      "source": [
        "## Exercise 2 - Output intermediate sampling results (4 points)\n",
        "\n",
        "Comparing the inference results of DDPM (2 points) and DDIM (2 points) by generating and analyzing their intermediate sampling results. Specifically, you need to run each model through a series of diffusion steps starting from a noisy image, capturing and outputting images at specified intervals to observe how each model refines the image over time. This involves setting up both models, performing inference at regular intervals, and saving these intermediate images to visualize and compare the evolution of image quality between the two models. This task requires to capture and analyze the differences in the sampling processes of DDPM and DDIM, providing insights into their respective performance in transitioning from noise to clearer images. You may also choose different datasets as long as they vary in sizes."
      ]
    },
    {
      "cell_type": "code",
      "execution_count": null,
      "id": "c1ca940e36dc168f",
      "metadata": {
        "ExecuteTime": {
          "end_time": "2024-09-27T07:25:27.054128Z",
          "start_time": "2024-09-27T07:25:27.051180Z"
        },
        "id": "c1ca940e36dc168f"
      },
      "outputs": [],
      "source": [
        "## TODO"
      ]
    },
    {
      "cell_type": "markdown",
      "id": "4c637b0ecddf83f0",
      "metadata": {
        "collapsed": false,
        "id": "4c637b0ecddf83f0"
      },
      "source": [
        "## Exercise 3 - Impact of different number of inference steps (3 points)\n",
        "DDIM does not change the training process of DDPM but only accelerates the sampling process. You are required to investigate the impact of varying the number of inference steps on the performance of diffusion models. Specifically, you will run experiments with both DDPM and DDIM by changing the number of diffusion steps used during the inference process. For each configuration, you will conduct multiple runs with different number of steps, analyzing how the number of steps affects image quality (3 points) and computational efficiency (3 points). By comparing the results, you will gain insights (1 points) into the trade-offs between the number of steps, image quality, and processing time, thus understanding the balance for effective diffusion model performance. You may also choose different datasets as long as they vary in sizes."
      ]
    },
    {
      "cell_type": "code",
      "execution_count": null,
      "id": "8a6485b1ea5d2865",
      "metadata": {
        "ExecuteTime": {
          "end_time": "2024-09-27T07:25:27.059704Z",
          "start_time": "2024-09-27T07:25:27.056828Z"
        },
        "id": "8a6485b1ea5d2865"
      },
      "outputs": [],
      "source": [
        "## TODO"
      ]
    },
    {
      "cell_type": "markdown",
      "id": "3a7258c7171dbfdf",
      "metadata": {
        "collapsed": false,
        "id": "3a7258c7171dbfdf"
      },
      "source": [
        "## Exercise 4 - The training of tabular DDPM (4 points)\n",
        "Train your own small and simple tabular diffusion models following the same steps of the image generation in the tutorial. It should include: model definition, noise and sampling steps specification, choosing the loss function, and the training step. You can get this points by either:\n",
        "   - train a image DDPM;\n",
        "   - run the [swiss-roll-2D](https://github.com/joseph-nagel/diffusion-demo/blob/main/notebooks/swissroll.ipynb) tabular diffusion tutorial, first run the scripts/train_ddpm_swissroll.py, ensure you have the right device and specify the numpy version (I have tried both 1.24.0 and 1.26.2 works, some versions not.) save the checkpoints and run the notebooks/swissroll.ipynb. Change something you find interesting and report on it.\n",
        "   - train the tabular DDPM from scratch, you need to embed the tabular data before feeding into to the networks, normally we concat the continuous value and the one-hot encoding of the discrete values (categorical feature). The network can be the same UNet as images or MLP, e.t.c. If you choose this homework, you get 2 bonus points."
      ]
    },
    {
      "cell_type": "code",
      "execution_count": null,
      "id": "335f3e1ef8f6c0e6",
      "metadata": {
        "ExecuteTime": {
          "end_time": "2024-09-27T07:25:27.064532Z",
          "start_time": "2024-09-27T07:25:27.061553Z"
        },
        "id": "335f3e1ef8f6c0e6"
      },
      "outputs": [],
      "source": [
        "## TODO"
      ]
    }
  ],
  "metadata": {
    "kernelspec": {
      "display_name": "Python 3",
      "language": "python",
      "name": "python3"
    },
    "language_info": {
      "codemirror_mode": {
        "name": "ipython",
        "version": 2
      },
      "file_extension": ".py",
      "mimetype": "text/x-python",
      "name": "python",
      "nbconvert_exporter": "python",
      "pygments_lexer": "ipython2",
      "version": "2.7.6"
    },
    "colab": {
      "provenance": []
    }
  },
  "nbformat": 4,
  "nbformat_minor": 5
}